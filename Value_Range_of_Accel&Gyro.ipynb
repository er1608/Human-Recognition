{
 "cells": [
  {
   "cell_type": "markdown",
   "id": "da838163",
   "metadata": {},
   "source": [
    "# Read file "
   ]
  },
  {
   "cell_type": "code",
   "execution_count": 2,
   "id": "1879d6b7",
   "metadata": {},
   "outputs": [],
   "source": [
    "file1 = open(\"C:\\\\Users\\\\pc\\\\OneDrive\\\\Documents\\\\Tài Liệu + Thực hành\\\\NCKH\\\\Dataset\\\\data_1651.txt\",\"r\")"
   ]
  },
  {
   "cell_type": "code",
   "execution_count": 40,
   "id": "b5790037",
   "metadata": {},
   "outputs": [
    {
     "name": "stdout",
     "output_type": "stream",
     "text": [
      "1651,E,75,-0.97265625,-8.1191406,-0.12207031,-0.1221374,0.0229007634,-0.14503817\n",
      "\n",
      "-0.97265625\n"
     ]
    }
   ],
   "source": [
    "file1.seek(0)\n",
    "line1 = file1.readline()\n",
    "elements = line1.split(',')\n",
    "ax_max = float(elements[3])\n",
    "ay_max = float(elements[4])\n",
    "az_max = float(elements[5])\n",
    "gx_max = float(elements[6])\n",
    "gy_max = float(elements[7])\n",
    "gz_max = float(elements[8])\n",
    "ax_min = float(elements[3])\n",
    "ay_min = float(elements[4])\n",
    "az_min = float(elements[5])\n",
    "gx_min = float(elements[6])\n",
    "gy_min = float(elements[7])\n",
    "gz_min = float(elements[8])\n",
    "print(line1)\n",
    "print(ax_max)"
   ]
  },
  {
   "cell_type": "markdown",
   "id": "9084a9db",
   "metadata": {},
   "source": [
    "# Finding max & min of Accel and Gyro for STANDING"
   ]
  },
  {
   "cell_type": "code",
   "execution_count": 41,
   "id": "ef1a00e7",
   "metadata": {},
   "outputs": [
    {
     "name": "stdout",
     "output_type": "stream",
     "text": [
      "5977\n"
     ]
    }
   ],
   "source": [
    "file1.seek(0)\n",
    "i = 0\n",
    "for line in file1:\n",
    "    elements = line.split(',')\n",
    "    if elements[1] == 'E':\n",
    "        i = i + 1\n",
    "    \n",
    "print(i)"
   ]
  },
  {
   "cell_type": "code",
   "execution_count": 42,
   "id": "3e7b362c",
   "metadata": {},
   "outputs": [],
   "source": [
    "file1.seek(0)\n",
    "for line in file1:\n",
    "    elements = line.split(',')\n",
    "    if elements[1] == 'E':\n",
    "        if float(elements[3]) > ax_max:\n",
    "            ax_max = float(elements[3])\n",
    "        if float(elements[3]) < ax_min:\n",
    "            ax_min = float(elements[3])\n",
    "        if float(elements[4]) > ay_max:\n",
    "            ay_max = float(elements[4])\n",
    "        if float(elements[4]) < ay_min:\n",
    "            ay_min = float(elements[4])\n",
    "        if float(elements[5]) > az_max:\n",
    "            az_max = float(elements[5])\n",
    "        if float(elements[5]) < az_min:\n",
    "            az_min = float(elements[5])\n",
    "        if float(elements[6]) > gx_max:\n",
    "            gx_max = float(elements[6])\n",
    "        if float(elements[6]) < gx_min:\n",
    "            gx_min = float(elements[6])\n",
    "        if float(elements[7]) > gy_max:\n",
    "            gy_max = float(elements[7])\n",
    "        if float(elements[7]) < gy_min:\n",
    "            gy_min = float(elements[7])\n",
    "        if float(elements[8]) > gz_max:\n",
    "            gz_max = float(elements[8])\n",
    "        if float(elements[8]) < gz_min:\n",
    "            gz_min = float(elements[8])"
   ]
  },
  {
   "cell_type": "code",
   "execution_count": 43,
   "id": "aa3d1bc2",
   "metadata": {},
   "outputs": [
    {
     "name": "stdout",
     "output_type": "stream",
     "text": [
      "Ax_max =  -0.17285156\n",
      "Ax_min =  -1.59375\n"
     ]
    }
   ],
   "source": [
    "print('Ax_max = ', ax_max)\n",
    "print('Ax_min = ', ax_min)"
   ]
  },
  {
   "cell_type": "code",
   "execution_count": 44,
   "id": "0a4932ef",
   "metadata": {},
   "outputs": [
    {
     "name": "stdout",
     "output_type": "stream",
     "text": [
      "Ay_max =  -7.6748047\n",
      "Ay_min =  -8.4677734\n"
     ]
    }
   ],
   "source": [
    "print('Ay_max = ', ay_max)\n",
    "print('Ay_min = ', ay_min)"
   ]
  },
  {
   "cell_type": "code",
   "execution_count": 45,
   "id": "464aac26",
   "metadata": {},
   "outputs": [
    {
     "name": "stdout",
     "output_type": "stream",
     "text": [
      "Az_max =  0.907226562\n",
      "Az_min =  -0.53320312\n"
     ]
    }
   ],
   "source": [
    "print('Az_max = ', az_max)\n",
    "print('Az_min = ', az_min)"
   ]
  },
  {
   "cell_type": "code",
   "execution_count": 46,
   "id": "8a359c7b",
   "metadata": {},
   "outputs": [
    {
     "name": "stdout",
     "output_type": "stream",
     "text": [
      "Gx_max =  1.19847328\n",
      "Gx_min =  -1.9160305\n"
     ]
    }
   ],
   "source": [
    "print('Gx_max = ', gx_max)\n",
    "print('Gx_min = ', gx_min)"
   ]
  },
  {
   "cell_type": "code",
   "execution_count": 47,
   "id": "6db2953d",
   "metadata": {},
   "outputs": [
    {
     "name": "stdout",
     "output_type": "stream",
     "text": [
      "Gy_max =  2.64885496\n",
      "Gy_min =  -4.9236641\n"
     ]
    }
   ],
   "source": [
    "print('Gy_max = ', gy_max)\n",
    "print('Gy_min = ', gy_min)"
   ]
  },
  {
   "cell_type": "code",
   "execution_count": 48,
   "id": "401b94cc",
   "metadata": {},
   "outputs": [
    {
     "name": "stdout",
     "output_type": "stream",
     "text": [
      "Gz_max =  1.91603053\n",
      "Gz_min =  -1.6946565\n"
     ]
    }
   ],
   "source": [
    "print('Gz_max = ', gz_max)\n",
    "print('Gz_min = ', gz_min)"
   ]
  },
  {
   "cell_type": "markdown",
   "id": "4d9a67ef",
   "metadata": {},
   "source": [
    "# Finding max & min of Accel and Gyro for SITTING"
   ]
  },
  {
   "cell_type": "code",
   "execution_count": 49,
   "id": "0d1bc03e",
   "metadata": {},
   "outputs": [
    {
     "name": "stdout",
     "output_type": "stream",
     "text": [
      "5931\n"
     ]
    }
   ],
   "source": [
    "file1.seek(0)\n",
    "i = 0\n",
    "for line in file1:\n",
    "    elements = line.split(',')\n",
    "    if elements[1] == 'D':\n",
    "        i = i + 1\n",
    "        if i == 1:\n",
    "            ax_max = float(elements[3])\n",
    "            ay_max = float(elements[4])\n",
    "            az_max = float(elements[5])\n",
    "            gx_max = float(elements[6])\n",
    "            gy_max = float(elements[7])\n",
    "            gz_max = float(elements[8])\n",
    "            ax_min = float(elements[3])\n",
    "            ay_min = float(elements[4])\n",
    "            az_min = float(elements[5])\n",
    "            gx_min = float(elements[6])\n",
    "            gy_min = float(elements[7])\n",
    "            gz_min = float(elements[8])\n",
    "print(i)"
   ]
  },
  {
   "cell_type": "code",
   "execution_count": 50,
   "id": "15102805",
   "metadata": {},
   "outputs": [],
   "source": [
    "file1.seek(0)\n",
    "for line in file1:\n",
    "    elements = line.split(',')\n",
    "    if elements[1] == 'D':\n",
    "        if float(elements[3]) > ax_max:\n",
    "            ax_max = float(elements[3])\n",
    "        if float(elements[3]) < ax_min:\n",
    "            ax_min = float(elements[3])\n",
    "        if float(elements[4]) > ay_max:\n",
    "            ay_max = float(elements[4])\n",
    "        if float(elements[4]) < ay_min:\n",
    "            ay_min = float(elements[4])\n",
    "        if float(elements[5]) > az_max:\n",
    "            az_max = float(elements[5])\n",
    "        if float(elements[5]) < az_min:\n",
    "            az_min = float(elements[5])\n",
    "        if float(elements[6]) > gx_max:\n",
    "            gx_max = float(elements[6])\n",
    "        if float(elements[6]) < gx_min:\n",
    "            gx_min = float(elements[6])\n",
    "        if float(elements[7]) > gy_max:\n",
    "            gy_max = float(elements[7])\n",
    "        if float(elements[7]) < gy_min:\n",
    "            gy_min = float(elements[7])\n",
    "        if float(elements[8]) > gz_max:\n",
    "            gz_max = float(elements[8])\n",
    "        if float(elements[8]) < gz_min:\n",
    "            gz_min = float(elements[8])"
   ]
  },
  {
   "cell_type": "code",
   "execution_count": 51,
   "id": "6e03e3d4",
   "metadata": {},
   "outputs": [
    {
     "name": "stdout",
     "output_type": "stream",
     "text": [
      "Ax_max =  4.80371094\n",
      "Ax_min =  -0.52539062\n"
     ]
    }
   ],
   "source": [
    "print('Ax_max = ', ax_max)\n",
    "print('Ax_min = ', ax_min)"
   ]
  },
  {
   "cell_type": "code",
   "execution_count": 52,
   "id": "edc1494f",
   "metadata": {},
   "outputs": [
    {
     "name": "stdout",
     "output_type": "stream",
     "text": [
      "Ay_max =  -0.23730469\n",
      "Ay_min =  -6.1933594\n"
     ]
    }
   ],
   "source": [
    "print('Ay_max = ', ay_max)\n",
    "print('Ay_min = ', ay_min)"
   ]
  },
  {
   "cell_type": "code",
   "execution_count": 53,
   "id": "bbd5399c",
   "metadata": {},
   "outputs": [
    {
     "name": "stdout",
     "output_type": "stream",
     "text": [
      "Az_max =  10.5947266\n",
      "Az_min =  6.91796875\n"
     ]
    }
   ],
   "source": [
    "print('Az_max = ', az_max)\n",
    "print('Az_min = ', az_min)"
   ]
  },
  {
   "cell_type": "code",
   "execution_count": 54,
   "id": "022f5b64",
   "metadata": {},
   "outputs": [
    {
     "name": "stdout",
     "output_type": "stream",
     "text": [
      "Gx_max =  3.33587786\n",
      "Gx_min =  -5.6717557\n"
     ]
    }
   ],
   "source": [
    "print('Gx_max = ', gx_max)\n",
    "print('Gx_min = ', gx_min)"
   ]
  },
  {
   "cell_type": "code",
   "execution_count": 55,
   "id": "b3015fcd",
   "metadata": {},
   "outputs": [
    {
     "name": "stdout",
     "output_type": "stream",
     "text": [
      "Gy_max =  8.21374046\n",
      "Gy_min =  -7.1221374\n"
     ]
    }
   ],
   "source": [
    "print('Gy_max = ', gy_max)\n",
    "print('Gy_min = ', gy_min)"
   ]
  },
  {
   "cell_type": "code",
   "execution_count": 56,
   "id": "af91f6e0",
   "metadata": {},
   "outputs": [
    {
     "name": "stdout",
     "output_type": "stream",
     "text": [
      "Gz_max =  3.58778626\n",
      "Gz_min =  -5.9847328\n"
     ]
    }
   ],
   "source": [
    "print('Gz_max = ', gz_max)\n",
    "print('Gz_min = ', gz_min)"
   ]
  },
  {
   "cell_type": "markdown",
   "id": "abf10a04",
   "metadata": {},
   "source": [
    "# Finding max & min of Accel and Gyro for Walking"
   ]
  },
  {
   "cell_type": "code",
   "execution_count": 57,
   "id": "24d1ff8d",
   "metadata": {},
   "outputs": [
    {
     "name": "stdout",
     "output_type": "stream",
     "text": [
      "5780\n"
     ]
    }
   ],
   "source": [
    "file1.seek(0)\n",
    "i = 0\n",
    "for line in file1:\n",
    "    elements = line.split(',')\n",
    "    if elements[1] == 'A':\n",
    "        i = i + 1\n",
    "        if i == 1:\n",
    "            ax_max = float(elements[3])\n",
    "            ay_max = float(elements[4])\n",
    "            az_max = float(elements[5])\n",
    "            gx_max = float(elements[6])\n",
    "            gy_max = float(elements[7])\n",
    "            gz_max = float(elements[8])\n",
    "            ax_min = float(elements[3])\n",
    "            ay_min = float(elements[4])\n",
    "            az_min = float(elements[5])\n",
    "            gx_min = float(elements[6])\n",
    "            gy_min = float(elements[7])\n",
    "            gz_min = float(elements[8])\n",
    "print(i)"
   ]
  },
  {
   "cell_type": "code",
   "execution_count": 59,
   "id": "899696b6",
   "metadata": {},
   "outputs": [],
   "source": [
    "file1.seek(0)\n",
    "for line in file1:\n",
    "    elements = line.split(',')\n",
    "    if elements[1] == 'A':\n",
    "        if float(elements[3]) > ax_max:\n",
    "            ax_max = float(elements[3])\n",
    "        if float(elements[3]) < ax_min:\n",
    "            ax_min = float(elements[3])\n",
    "        if float(elements[4]) > ay_max:\n",
    "            ay_max = float(elements[4])\n",
    "        if float(elements[4]) < ay_min:\n",
    "            ay_min = float(elements[4])\n",
    "        if float(elements[5]) > az_max:\n",
    "            az_max = float(elements[5])\n",
    "        if float(elements[5]) < az_min:\n",
    "            az_min = float(elements[5])\n",
    "        if float(elements[6]) > gx_max:\n",
    "            gx_max = float(elements[6])\n",
    "        if float(elements[6]) < gx_min:\n",
    "            gx_min = float(elements[6])\n",
    "        if float(elements[7]) > gy_max:\n",
    "            gy_max = float(elements[7])\n",
    "        if float(elements[7]) < gy_min:\n",
    "            gy_min = float(elements[7])\n",
    "        if float(elements[8]) > gz_max:\n",
    "            gz_max = float(elements[8])\n",
    "        if float(elements[8]) < gz_min:\n",
    "            gz_min = float(elements[8])"
   ]
  },
  {
   "cell_type": "code",
   "execution_count": 60,
   "id": "1d186677",
   "metadata": {},
   "outputs": [
    {
     "name": "stdout",
     "output_type": "stream",
     "text": [
      "Ax_max =  10.6669922\n",
      "Ax_min =  -7.1601562\n"
     ]
    }
   ],
   "source": [
    "print('Ax_max = ', ax_max)\n",
    "print('Ax_min = ', ax_min)"
   ]
  },
  {
   "cell_type": "code",
   "execution_count": 61,
   "id": "42823e6a",
   "metadata": {},
   "outputs": [
    {
     "name": "stdout",
     "output_type": "stream",
     "text": [
      "Ay_max =  -4.4443359\n",
      "Ay_min =  -15.847656\n"
     ]
    }
   ],
   "source": [
    "print('Ay_max = ', ay_max)\n",
    "print('Ay_min = ', ay_min)"
   ]
  },
  {
   "cell_type": "code",
   "execution_count": 62,
   "id": "05d5c9db",
   "metadata": {},
   "outputs": [
    {
     "name": "stdout",
     "output_type": "stream",
     "text": [
      "Az_max =  4.87695312\n",
      "Az_min =  -11.629883\n"
     ]
    }
   ],
   "source": [
    "print('Az_max = ', az_max)\n",
    "print('Az_min = ', az_min)"
   ]
  },
  {
   "cell_type": "code",
   "execution_count": 63,
   "id": "2b06c3bf",
   "metadata": {},
   "outputs": [
    {
     "name": "stdout",
     "output_type": "stream",
     "text": [
      "Gx_max =  18.3053435\n",
      "Gx_min =  -20.419847\n"
     ]
    }
   ],
   "source": [
    "print('Gx_max = ', gx_max)\n",
    "print('Gx_min = ', gx_min)"
   ]
  },
  {
   "cell_type": "code",
   "execution_count": 64,
   "id": "ec0299f3",
   "metadata": {},
   "outputs": [
    {
     "name": "stdout",
     "output_type": "stream",
     "text": [
      "Gy_max =  28.0458015\n",
      "Gy_min =  -35.862595\n"
     ]
    }
   ],
   "source": [
    "print('Gy_max = ', gy_max)\n",
    "print('Gy_min = ', gy_min)"
   ]
  },
  {
   "cell_type": "code",
   "execution_count": 65,
   "id": "bd000822",
   "metadata": {},
   "outputs": [
    {
     "name": "stdout",
     "output_type": "stream",
     "text": [
      "Gz_max =  21.4122137\n",
      "Gz_min =  -26.068702\n"
     ]
    }
   ],
   "source": [
    "print('Gz_max = ', gz_max)\n",
    "print('Gz_min = ', gz_min)"
   ]
  }
 ],
 "metadata": {
  "kernelspec": {
   "display_name": "Python 3 (ipykernel)",
   "language": "python",
   "name": "python3"
  },
  "language_info": {
   "codemirror_mode": {
    "name": "ipython",
    "version": 3
   },
   "file_extension": ".py",
   "mimetype": "text/x-python",
   "name": "python",
   "nbconvert_exporter": "python",
   "pygments_lexer": "ipython3",
   "version": "3.11.7"
  }
 },
 "nbformat": 4,
 "nbformat_minor": 5
}
